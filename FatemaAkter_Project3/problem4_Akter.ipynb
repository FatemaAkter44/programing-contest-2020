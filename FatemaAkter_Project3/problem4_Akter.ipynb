{
 "cells": [
  {
   "cell_type": "code",
   "execution_count": 10,
   "metadata": {},
   "outputs": [
    {
     "name": "stdout",
     "output_type": "stream",
     "text": [
      " Enter an integer number: 1111\n",
      "The total sum of digits is: 4\n"
     ]
    }
   ],
   "source": [
    "a = int(input(\" Enter an integer number: \"))\n",
    "\n",
    "count = 0\n",
    "while(a>0):\n",
    "    dig=a%10\n",
    "    count= count+dig\n",
    "    a=a//10\n",
    "print(\"The total sum of digits is:\",count)\n"
   ]
  },
  {
   "cell_type": "code",
   "execution_count": null,
   "metadata": {},
   "outputs": [],
   "source": []
  }
 ],
 "metadata": {
  "kernelspec": {
   "display_name": "Python 3",
   "language": "python",
   "name": "python3"
  },
  "language_info": {
   "codemirror_mode": {
    "name": "ipython",
    "version": 3
   },
   "file_extension": ".py",
   "mimetype": "text/x-python",
   "name": "python",
   "nbconvert_exporter": "python",
   "pygments_lexer": "ipython3",
   "version": "3.7.4"
  }
 },
 "nbformat": 4,
 "nbformat_minor": 2
}
