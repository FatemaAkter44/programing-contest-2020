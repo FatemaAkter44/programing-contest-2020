{
 "cells": [
  {
   "cell_type": "code",
   "execution_count": 7,
   "metadata": {},
   "outputs": [
    {
     "name": "stdout",
     "output_type": "stream",
     "text": [
      "Contestant : Fatema Akter\n",
      "enter number of cents: 67\n",
      "Quaters =  2\n",
      " Dimes =  1\n",
      "nickels =  1\n",
      "pennies =  1\n"
     ]
    }
   ],
   "source": [
    "print(\"Contestant : Fatema Akter\")\n",
    "n = int(input('enter number of cents: '))\n",
    "q_reminder = n%25\n",
    "q = int((n-q_reminder)/25)\n",
    "print(\"Quaters = \", q)\n",
    "\n",
    "d_reminder = q_reminder%10\n",
    "d =int((q_reminder - d_reminder)/10)\n",
    "print(\" Dimes = \", d)\n",
    "\n",
    "\n",
    "nic_reminder = d_reminder%5\n",
    "nic = int((d_reminder - nic_reminder)/5)\n",
    "print(\"nickels = \", nic)\n",
    "\n",
    "print(\"pennies = \",nic_reminder-nic)\n",
    "\n",
    "\n"
   ]
  },
  {
   "cell_type": "code",
   "execution_count": null,
   "metadata": {},
   "outputs": [],
   "source": []
  }
 ],
 "metadata": {
  "kernelspec": {
   "display_name": "Python 3",
   "language": "python",
   "name": "python3"
  },
  "language_info": {
   "codemirror_mode": {
    "name": "ipython",
    "version": 3
   },
   "file_extension": ".py",
   "mimetype": "text/x-python",
   "name": "python",
   "nbconvert_exporter": "python",
   "pygments_lexer": "ipython3",
   "version": "3.7.4"
  }
 },
 "nbformat": 4,
 "nbformat_minor": 2
}
